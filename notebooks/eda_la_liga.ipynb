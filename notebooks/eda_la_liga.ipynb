{
 "cells": [
  {
   "cell_type": "code",
   "execution_count": null,
   "metadata": {},
   "outputs": [],
   "source": [
    "import pandas as pd\n",
    "import matplotlib.pyplot as plt\n",
    "import seaborn as sns\n",
    "\n",
    "# load data\n",
    "games = pd.read_csv('../data/la-liga-results-1995-2020.csv')\n",
    "players = pd.read_csv('../data/player-status-2022-2023.csv')\n",
    "\n",
    "# EDA for games data\n",
    "print(\"Game Data Overview\")\n",
    "print(games.head())\n",
    "print(games.describe())\n",
    "print(games.info())\n",
    "\n",
    "# missing values for games data\n",
    "print(\"Missing Values in Game Data\")\n",
    "print(games.isnull().sum())\n",
    "\n",
    "# visualize results distribution\n",
    "sns.countplot(games['FTR'])\n",
    "plt.title(\"Distribution of Match Results\")\n",
    "plt.show()\n",
    "\n",
    "# analyze goals scored\n",
    "plt.hist(games['FTHG'], bins=20, color='blue', alpha=0.7, label='Home Goals')\n",
    "plt.hist(games['FTAG'], bins=20, color='orange', alpha=0.7, label='Away Goals')\n",
    "plt.legend()\n",
    "plt.title(\"Goals Distribution\")\n",
    "plt.show()\n",
    "\n",
    "# EDA for players data\n",
    "print(\"Player Data Overview\")\n",
    "print(players.head())\n",
    "print(players.describe())\n",
    "print(players.info())\n",
    "\n",
    "# missing values for players data\n",
    "print(\"Missing Values in Player Data\")\n",
    "print(players.isnull().sum())\n",
    "\n",
    "# visualize ratings distribution by player position\n",
    "sns.boxplot(x='Position', y='Rating', data=players)\n",
    "plt.xticks(rotation=90)\n",
    "plt.title(\"Player Ratings by Position\")\n",
    "plt.show()\n",
    "\n",
    "# correlation between goals scored and player ratings\n",
    "sns.scatterplot(x='Goals', y='Rating', hue='Team-name', data=players)\n",
    "plt.title(\"Player Goals vs Rating\")\n",
    "plt.show()\n"
   ]
  }
 ],
 "metadata": {
  "language_info": {
   "name": "python"
  }
 },
 "nbformat": 4,
 "nbformat_minor": 2
}
